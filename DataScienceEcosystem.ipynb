{
 "cells": [
  {
   "cell_type": "markdown",
   "id": "a552838c-48fd-4f0d-8925-d5f36b523b34",
   "metadata": {},
   "source": [
    "# Data Science Tools and Ecosystem"
   ]
  },
  {
   "cell_type": "markdown",
   "id": "b991ffd3-54e4-4d68-9b20-34a95b041ad6",
   "metadata": {},
   "source": [
    "Introduction : This notebook provides a summary of Data Science tools and the surrounding ecosystem."
   ]
  },
  {
   "cell_type": "markdown",
   "id": "316c3780-6f8f-4c11-b69e-e90ce98fbcda",
   "metadata": {},
   "source": [
    "**Objectives:**\n",
    "\n",
    "- List popular languages for Data Science.\n",
    "- Identify commonly used libraries in Data Science.\n",
    "- Demonstrate how to evaluate arithmetic expressions in Python.\n",
    "- Highlight open-source tools used in Data Science development.\n",
    "- Understand the basics of data manipulation and visualization."
   ]
  },
  {
   "cell_type": "markdown",
   "id": "73745a0f-acb5-4150-ab66-19ebdabcf56a",
   "metadata": {},
   "source": [
    "List of Data Science Languages:\n",
    "\n",
    "1. Python\n",
    "2. R\n",
    "3. SQL\n",
    "4. Julia\n",
    "5. Scala\n",
    "6. Java\n",
    "7. MATLAB"
   ]
  },
  {
   "cell_type": "markdown",
   "id": "19a27726-aea0-40d4-986a-d3302feb2565",
   "metadata": {},
   "source": [
    "List of Data Science Libraries:\n",
    "\n",
    "1. NumPy\n",
    "2. Pandas\n",
    "3. Matplotlib\n",
    "4. Seaborn\n",
    "5. Scikit-learn\n",
    "6. TensorFlow\n",
    "7. PyTorch\n",
    "8. Keras\n",
    "9. SciPy\n",
    "10. Statsmodels"
   ]
  },
  {
   "cell_type": "markdown",
   "id": "d6c72c2b-55a1-425e-a0c8-5339e254d4d1",
   "metadata": {},
   "source": [
    "| Data Science Tools       |\n",
    "|--------------------------|\n",
    "| Jupyter Notebook         |\n",
    "| RStudio                  |\n",
    "| Apache Zeppelin          |\n"
   ]
  },
  {
   "cell_type": "markdown",
   "id": "da5fbccb-ac52-43c9-a0ff-1c5419039c89",
   "metadata": {},
   "source": [
    "### Here are some examples of how to evaluate arithmetic expressions in Python."
   ]
  },
  {
   "cell_type": "markdown",
   "id": "a9ca8209-322e-4b20-b775-c2bea508c06a",
   "metadata": {},
   "source": [
    "This a simple arithmetic expression to mutiply then add integers"
   ]
  },
  {
   "cell_type": "code",
   "execution_count": 5,
   "id": "aafa2a8a-3f4c-433a-9571-86d28c1bf7fa",
   "metadata": {},
   "outputs": [
    {
     "data": {
      "text/plain": [
       "17"
      ]
     },
     "execution_count": 5,
     "metadata": {},
     "output_type": "execute_result"
    }
   ],
   "source": [
    "(3*4)+5\n",
    "# This a simple arithmetic expression to mutiply then add integers\n"
   ]
  },
  {
   "cell_type": "code",
   "execution_count": 6,
   "id": "70a3db28-7b68-4a9d-9d9d-90c36192d786",
   "metadata": {},
   "outputs": [
    {
     "name": "stdout",
     "output_type": "stream",
     "text": [
      "200 minutes is equal to 3.3333333333333335 hours\n"
     ]
    }
   ],
   "source": [
    "# Convert 200 minutes into hours\n",
    "minutes = 200\n",
    "hours = minutes / 60\n",
    "print(f\"{minutes} minutes is equal to {hours} hours\")"
   ]
  },
  {
   "cell_type": "markdown",
   "id": "c1a982f0-a71e-4571-94d8-1bd152641742",
   "metadata": {},
   "source": [
    "## Author\n",
    "\n",
    "Ousmane Koné\n"
   ]
  },
  {
   "cell_type": "code",
   "execution_count": null,
   "id": "6e03223e-c1d8-4deb-827a-0df9d6117eb5",
   "metadata": {},
   "outputs": [],
   "source": []
  }
 ],
 "metadata": {
  "kernelspec": {
   "display_name": "Python 3 (ipykernel)",
   "language": "python",
   "name": "python3"
  },
  "language_info": {
   "codemirror_mode": {
    "name": "ipython",
    "version": 3
   },
   "file_extension": ".py",
   "mimetype": "text/x-python",
   "name": "python",
   "nbconvert_exporter": "python",
   "pygments_lexer": "ipython3",
   "version": "3.13.1"
  }
 },
 "nbformat": 4,
 "nbformat_minor": 5
}
